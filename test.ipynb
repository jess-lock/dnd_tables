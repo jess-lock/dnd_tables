{
 "cells": [
  {
   "cell_type": "code",
   "execution_count": null,
   "id": "5071f761",
   "metadata": {
    "lines_to_next_cell": 1
   },
   "outputs": [],
   "source": [
    "import pandas as pd\n",
    "from random import randrange\n",
    "def inputMatching(inp):\n",
    "    match inp:\n",
    "        case 1:\n",
    "            return \"Settlements\"\n",
    "        case 2:\n",
    "            return \"Ruins\"\n",
    "        case 3: \n",
    "            return \"Long Rambly Name\"\n",
    "        case _:\n",
    "            return \"Error\""
   ]
  },
  {
   "cell_type": "code",
   "execution_count": null,
   "id": "8201e57b",
   "metadata": {},
   "outputs": [],
   "source": [
    "excel_file_path = 'testSheet.xlsx'"
   ]
  },
  {
   "cell_type": "code",
   "execution_count": null,
   "id": "e54fe37f",
   "metadata": {},
   "outputs": [],
   "source": [
    "excel_data = pd.ExcelFile(excel_file_path)\n",
    "sheet_dataframes = {}\n",
    "for sheet_name in excel_data.sheet_names:\n",
    "    sheet_dataframes[sheet_name] = pd.read_excel(excel_file_path, sheet_name=sheet_name, header=None)"
   ]
  },
  {
   "cell_type": "code",
   "execution_count": null,
   "id": "6e232e68",
   "metadata": {},
   "outputs": [],
   "source": [
    "keepGoing = True"
   ]
  },
  {
   "cell_type": "code",
   "execution_count": null,
   "id": "5ccad563",
   "metadata": {},
   "outputs": [],
   "source": [
    "while keepGoing:\n",
    "    introText = \"\\nWhat table do you want to roll?\" #\\n(1) Settlements\\n(2) Ruins\\n Input:\"\n",
    "    for j in range(1, len(sheet_dataframes)+1):\n",
    "        introText = introText + f\"\\n{j} {inputMatching(j)}\"\n",
    "    \n",
    "    introText = introText + \"\\n Input: \"\n",
    "    choice = input(introText)\n",
    "    if (choice == \"exit\") or (choice == \"quit\") or (choice == \"q\"):\n",
    "        exit()\n",
    "    sheet = inputMatching(int(choice))\n",
    "    if sheet == \"Error\":\n",
    "        print(\"Try again\")\n",
    "        continue\n",
    "\n",
    "    current_df = sheet_dataframes[sheet]\n",
    "    diceMax = len(current_df)\n",
    "    roll = randrange(1, diceMax+1)\n",
    "    print(\"###\\n\\t Rolled\", roll, \"on the\", sheet,\"table\\n\\t\", current_df.iloc[roll-1].loc[1])\n",
    "    if len(current_df.columns) == 3:\n",
    "        initialDice = current_df.iloc[roll-1].loc[2]\n",
    "        numberOfDice, diceNumber = initialDice.split(\"d\")\n",
    "\n",
    "        if \"+\" in initialDice:\n",
    "            diceNumber, addition = diceNumber.split(\"+\")\n",
    "        else:\n",
    "            addition = 0\n",
    "\n",
    "        total = 0\n",
    "        for i in range(0, int(numberOfDice)):\n",
    "            total = total + randrange(1, int(diceNumber))\n",
    "        \n",
    "        total = total+int(addition)\n",
    "        print(\"\\t\",initialDice, \"gives\", total)\n",
    "        print(\"###\")"
   ]
  }
 ],
 "metadata": {
  "jupytext": {
   "cell_metadata_filter": "-all",
   "main_language": "python",
   "notebook_metadata_filter": "-all"
  }
 },
 "nbformat": 4,
 "nbformat_minor": 5
}
